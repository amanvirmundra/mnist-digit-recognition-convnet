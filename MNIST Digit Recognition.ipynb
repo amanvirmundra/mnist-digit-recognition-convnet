{
 "cells": [
  {
   "cell_type": "code",
   "execution_count": 1,
   "metadata": {
    "collapsed": true
   },
   "outputs": [],
   "source": [
    "import tensorflow as tf\n",
    "from tensorflow.examples.tutorials.mnist import input_data\n",
    "from tensorflow.python.framework import ops"
   ]
  },
  {
   "cell_type": "code",
   "execution_count": 2,
   "metadata": {},
   "outputs": [
    {
     "name": "stdout",
     "output_type": "stream",
     "text": [
      "Extracting /mnist/input_data\\train-images-idx3-ubyte.gz\n",
      "Extracting /mnist/input_data\\train-labels-idx1-ubyte.gz\n",
      "Extracting /mnist/input_data\\t10k-images-idx3-ubyte.gz\n",
      "Extracting /mnist/input_data\\t10k-labels-idx1-ubyte.gz\n"
     ]
    }
   ],
   "source": [
    "mnist = input_data.read_data_sets('/mnist/input_data', one_hot=True)"
   ]
  },
  {
   "cell_type": "code",
   "execution_count": 21,
   "metadata": {},
   "outputs": [
    {
     "name": "stdout",
     "output_type": "stream",
     "text": [
      "Training: X shape: (55000, 28, 28, 1)\n",
      "Training: Y shape: (55000, 10)\n",
      "Test: X shape: (5000, 28, 28, 1)\n",
      "Test: Y shape: (5000, 10)\n"
     ]
    }
   ],
   "source": [
    "# training data\n",
    "X_train = mnist.train.images.reshape([-1, 28, 28, 1])\n",
    "Y_train = mnist.train.labels\n",
    "print(\"Training: X shape: {}\".format(X_train.shape))\n",
    "print(\"Training: Y shape: {}\".format(Y_train.shape))\n",
    "\n",
    "# test data\n",
    "# taking a subset of test data (my GPU goes OOM on 10K)\n",
    "X_test,Y_test  = mnist.test.next_batch(5000)\n",
    "X_test = X_test.reshape([-1,28,28,1])\n",
    "print(\"Test: X shape: {}\".format(X_test.shape))\n",
    "print(\"Test: Y shape: {}\".format(Y_test.shape))\n"
   ]
  },
  {
   "cell_type": "code",
   "execution_count": 26,
   "metadata": {
    "collapsed": true
   },
   "outputs": [],
   "source": [
    "def train(X_train, Y_train):\n",
    "        \n",
    "        ops.reset_default_graph()\n",
    "        \n",
    "        # Create placeholders\n",
    "        (m,h,w,c) = X_train.shape\n",
    "        y = Y_train.shape[1]\n",
    "        \n",
    "        X = tf.placeholder(shape=(None,h,w,c), dtype = tf.float32)\n",
    "        Y = tf.placeholder(shape=(None,y), dtype=tf.float32)\n",
    "\n",
    "       # Conv layer 1 with Max Pooling \n",
    "        filter = tf.get_variable(\"W1\", [5, 5, 1, 32], initializer = tf.contrib.layers.xavier_initializer(seed = 0))\n",
    "        Z1 = tf.nn.conv2d(X, filter= filter, strides= [1,1,1,1], padding='SAME')\n",
    "        A1 = tf.nn.relu(Z1)\n",
    "        P1 = tf.nn.max_pool(A1, ksize=[1, 2, 2, 1],strides=[1, 2, 2, 1], padding='SAME')\n",
    "        print(P1.shape)\n",
    "        \n",
    "        # Conv layer 2 with Max Pooling\n",
    "        filter2 = tf.get_variable(\"W2\", [5, 5, 32, 64], initializer = tf.contrib.layers.xavier_initializer(seed = 0))\n",
    "        Z2 = tf.nn.conv2d(P1, filter=filter2, strides= [1,1,1,1], padding='SAME')\n",
    "        A2 = tf.nn.relu(Z2)\n",
    "        P2 = tf.nn.max_pool(A2, ksize=[1, 2, 2, 1],strides=[1, 2, 2, 1], padding='SAME')\n",
    "        print(P2.shape)\n",
    "        \n",
    "        # fully connected layer\n",
    "        L = tf.contrib.layers.flatten(P2)\n",
    "        Z = tf.contrib.layers.fully_connected(L,10,activation_fn=None)\n",
    "        print(Z.shape)\n",
    "        \n",
    "        # compute cross entropy\n",
    "        cross_entropy = tf.reduce_mean(tf.nn.softmax_cross_entropy_with_logits(labels=Y,logits=Z))\n",
    "        train_step = tf.train.AdamOptimizer(1e-4).minimize(cross_entropy)\n",
    "                \n",
    "        # calculate accuracy\n",
    "        correct_prediction = tf.equal(tf.argmax(Z, 1), tf.argmax(Y, 1))\n",
    "        accuracy = tf.reduce_mean(tf.cast(correct_prediction, tf.float32))\n",
    "\n",
    "        init = tf.global_variables_initializer()\n",
    "\n",
    "        with tf.Session() as sess:\n",
    "            sess.run(init)\n",
    "            for i in range(20000):\n",
    "                batch = mnist.train.next_batch(64)\n",
    "                \n",
    "                if i % 500 == 0:\n",
    "                    train_accuracy = accuracy.eval(feed_dict={X: batch[0].reshape([-1, 28, 28, 1]), Y: batch[1]})\n",
    "                    print('step %d, training accuracy %g' % (i, train_accuracy))\n",
    "                \n",
    "                train_step.run(feed_dict={X: batch[0].reshape([-1, 28, 28, 1]), Y: batch[1]})\n",
    "\n",
    "            print('test accuracy %g' % accuracy.eval(feed_dict={X: X_test, Y: Y_test}))\n",
    "        return"
   ]
  },
  {
   "cell_type": "code",
   "execution_count": 27,
   "metadata": {},
   "outputs": [
    {
     "name": "stdout",
     "output_type": "stream",
     "text": [
      "(?, 14, 14, 32)\n",
      "(?, 7, 7, 64)\n",
      "(?, 10)\n",
      "step 0, training accuracy 0.078125\n",
      "step 500, training accuracy 0.890625\n",
      "step 1000, training accuracy 0.9375\n",
      "step 1500, training accuracy 0.953125\n",
      "step 2000, training accuracy 0.953125\n",
      "step 2500, training accuracy 0.96875\n",
      "step 3000, training accuracy 0.953125\n",
      "step 3500, training accuracy 0.984375\n",
      "step 4000, training accuracy 0.96875\n",
      "step 4500, training accuracy 0.96875\n",
      "step 5000, training accuracy 1\n",
      "step 5500, training accuracy 1\n",
      "step 6000, training accuracy 0.984375\n",
      "step 6500, training accuracy 0.984375\n",
      "step 7000, training accuracy 0.984375\n",
      "step 7500, training accuracy 0.96875\n",
      "step 8000, training accuracy 0.96875\n",
      "step 8500, training accuracy 0.96875\n",
      "step 9000, training accuracy 1\n",
      "step 9500, training accuracy 1\n",
      "step 10000, training accuracy 1\n",
      "step 10500, training accuracy 0.984375\n",
      "step 11000, training accuracy 1\n",
      "step 11500, training accuracy 1\n",
      "step 12000, training accuracy 0.984375\n",
      "step 12500, training accuracy 0.984375\n",
      "step 13000, training accuracy 1\n",
      "step 13500, training accuracy 1\n",
      "step 14000, training accuracy 1\n",
      "step 14500, training accuracy 1\n",
      "step 15000, training accuracy 0.984375\n",
      "step 15500, training accuracy 1\n",
      "step 16000, training accuracy 1\n",
      "step 16500, training accuracy 1\n",
      "step 17000, training accuracy 1\n",
      "step 17500, training accuracy 1\n",
      "step 18000, training accuracy 1\n",
      "step 18500, training accuracy 0.953125\n",
      "step 19000, training accuracy 0.984375\n",
      "step 19500, training accuracy 0.984375\n",
      "test accuracy 0.9908\n"
     ]
    }
   ],
   "source": [
    "train(X_train, Y_train)"
   ]
  }
 ],
 "metadata": {
  "kernelspec": {
   "display_name": "Python 3",
   "language": "python",
   "name": "python3"
  },
  "language_info": {
   "codemirror_mode": {
    "name": "ipython",
    "version": 3
   },
   "file_extension": ".py",
   "mimetype": "text/x-python",
   "name": "python",
   "nbconvert_exporter": "python",
   "pygments_lexer": "ipython3",
   "version": "3.5.3"
  }
 },
 "nbformat": 4,
 "nbformat_minor": 2
}
